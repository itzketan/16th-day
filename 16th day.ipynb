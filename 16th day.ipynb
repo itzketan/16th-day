{
 "cells": [
  {
   "cell_type": "code",
   "execution_count": 13,
   "metadata": {},
   "outputs": [
    {
     "name": "stdout",
     "output_type": "stream",
     "text": [
      "48\n"
     ]
    }
   ],
   "source": [
    "r = lambda x,y : x *y \n",
    "print(r(12,4))\n"
   ]
  },
  {
   "cell_type": "code",
   "execution_count": 14,
   "metadata": {},
   "outputs": [
    {
     "name": "stdout",
     "output_type": "stream",
     "text": [
      "[0, 1, 1, 2, 3, 5, 8, 13, 21, 34]\n"
     ]
    }
   ],
   "source": [
    "def fibonacci(count):\n",
    "    fib_list = [0,1]\n",
    "    any(map(lambda _: fib_list.append(sum(fib_list[-2:])),range(2, count)))\n",
    "    return fib_list[:count]\n",
    "print(fibonacci(10))"
   ]
  },
  {
   "cell_type": "code",
   "execution_count": 15,
   "metadata": {},
   "outputs": [
    {
     "name": "stdout",
     "output_type": "stream",
     "text": [
      "Original list :  [3, 7, 5, 8, 11, 22, 33]\n",
      "Given number :  2\n",
      "Result : \n",
      "6 14 10 16 22 44 66\n"
     ]
    }
   ],
   "source": [
    "nums = [3,7,5,8,11,22,33]\n",
    "n = 2\n",
    "print(\"Original list : \", nums)\n",
    "print(\"Given number : \", n)\n",
    "filtered_numbers = list(map(lambda number:number*n,nums))\n",
    "print(\"Result : \")\n",
    "print(' '.join(map(str,filtered_numbers)))"
   ]
  },
  {
   "cell_type": "code",
   "execution_count": 16,
   "metadata": {},
   "outputs": [
    {
     "name": "stdout",
     "output_type": "stream",
     "text": [
      "Numbers Divisible by 9 are [27, 45, 63, 72, 90, 180, 360]\n"
     ]
    }
   ],
   "source": [
    "num_list = [10, 27, 45, 63, 72, 90, 180, 360]\n",
    "result = list(filter(lambda x: (x % 9 == 0), num_list))\n",
    "print(\"Numbers Divisible by 9 are\",result)"
   ]
  },
  {
   "cell_type": "code",
   "execution_count": 17,
   "metadata": {},
   "outputs": [
    {
     "name": "stdout",
     "output_type": "stream",
     "text": [
      "Even Numbers Available In The List :  10\n"
     ]
    }
   ],
   "source": [
    "numbers = [1,2,3,4,5,6,7,8,9,10,11,12,13,14,15,16,17,18,19,20]\n",
    "even_count = len(list(filter(lambda x: (x % 2 == 0), numbers)))\n",
    "print(\"Even Numbers Available In The List : \", even_count)"
   ]
  },
  {
   "cell_type": "code",
   "execution_count": null,
   "metadata": {},
   "outputs": [],
   "source": []
  }
 ],
 "metadata": {
  "kernelspec": {
   "display_name": "Python 3",
   "language": "python",
   "name": "python3"
  },
  "language_info": {
   "codemirror_mode": {
    "name": "ipython",
    "version": 3
   },
   "file_extension": ".py",
   "mimetype": "text/x-python",
   "name": "python",
   "nbconvert_exporter": "python",
   "pygments_lexer": "ipython3",
   "version": "3.8.5"
  }
 },
 "nbformat": 4,
 "nbformat_minor": 4
}
